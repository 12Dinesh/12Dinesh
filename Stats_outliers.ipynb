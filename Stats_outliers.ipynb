{
  "nbformat": 4,
  "nbformat_minor": 0,
  "metadata": {
    "colab": {
      "name": "Untitled1.ipynb",
      "provenance": [],
      "toc_visible": true,
      "authorship_tag": "ABX9TyPNyBp5gKvCu6lPFughdhxP",
      "include_colab_link": true
    },
    "kernelspec": {
      "name": "python3",
      "display_name": "Python 3"
    },
    "language_info": {
      "name": "python"
    }
  },
  "cells": [
    {
      "cell_type": "markdown",
      "metadata": {
        "id": "view-in-github",
        "colab_type": "text"
      },
      "source": [
        "<a href=\"https://colab.research.google.com/github/12Dinesh/12Dinesh/blob/main/Stats_outliers.ipynb\" target=\"_parent\"><img src=\"https://colab.research.google.com/assets/colab-badge.svg\" alt=\"Open In Colab\"/></a>"
      ]
    },
    {
      "cell_type": "markdown",
      "source": [
        "OUTLIERS\n"
      ],
      "metadata": {
        "id": "G6B5Bsxla2IR"
      }
    },
    {
      "cell_type": "code",
      "execution_count": 1,
      "metadata": {
        "id": "B8B8fe-saCzm"
      },
      "outputs": [],
      "source": [
        "import numpy as np\n",
        "import matplotlib.pyplot as plt\n",
        "%matplotlib inline"
      ]
    },
    {
      "cell_type": "markdown",
      "source": [
        "define dataset\n"
      ],
      "metadata": {
        "id": "NUymoWRObhlQ"
      }
    },
    {
      "cell_type": "code",
      "source": [
        "dataset=[11,10,12,14,12,15,14,13,15,102,12,14,17,19,107, 10,13,12,14,12,108,12,11,14,13,15,10,15,12,10,14,13,15,10]\n",
        "dataset1=[34,4,55,92,36,90,56,78,94,34,56,25,47,12,1888,2344,578,222,-12345,789,-34590,10000000]"
      ],
      "metadata": {
        "id": "oQZaF9lJbhDK"
      },
      "execution_count": 27,
      "outputs": []
    },
    {
      "cell_type": "code",
      "source": [
        ""
      ],
      "metadata": {
        "id": "XmvnaV3hlM9v"
      },
      "execution_count": null,
      "outputs": []
    },
    {
      "cell_type": "markdown",
      "source": [
        "# New Section"
      ],
      "metadata": {
        "id": "zLZnyhoLapOS"
      }
    },
    {
      "cell_type": "code",
      "source": [
        "\n",
        "outliers=[]\n",
        "\n",
        "def detect_outlier(data):\n",
        "  threshold=3\n",
        "  mean=np.mean(data)\n",
        "  stdvt=np.std(data)\n",
        "  for i in data:\n",
        "    z_score=(i-mean)/stdvt\n",
        "    if z_score>abs(threshold):\n",
        "      outliers.append(i)\n",
        "  return outliers"
      ],
      "metadata": {
        "id": "DPdPcaAVaw9S"
      },
      "execution_count": 28,
      "outputs": []
    },
    {
      "cell_type": "code",
      "source": [
        "detect_outlier(dataset)"
      ],
      "metadata": {
        "colab": {
          "base_uri": "https://localhost:8080/"
        },
        "id": "6yBlwYGlngug",
        "outputId": "0acb2299-90b5-430f-e1cd-0d44807f1c75"
      },
      "execution_count": 20,
      "outputs": [
        {
          "output_type": "execute_result",
          "data": {
            "text/plain": [
              "[102, 107, 108]"
            ]
          },
          "metadata": {},
          "execution_count": 20
        }
      ]
    },
    {
      "cell_type": "code",
      "source": [
        "detect_outlier(dataset1)"
      ],
      "metadata": {
        "colab": {
          "base_uri": "https://localhost:8080/"
        },
        "id": "nwg-wGcNoyh9",
        "outputId": "159bfe29-ffd1-4780-c809-5d1aa3ab4e1a"
      },
      "execution_count": 29,
      "outputs": [
        {
          "output_type": "execute_result",
          "data": {
            "text/plain": [
              "[10000000]"
            ]
          },
          "metadata": {},
          "execution_count": 29
        }
      ]
    },
    {
      "cell_type": "code",
      "source": [
        "plt.hist(dataset)\n",
        "plt.hist(dataset1)\n"
      ],
      "metadata": {
        "colab": {
          "base_uri": "https://localhost:8080/",
          "height": 347
        },
        "id": "Qe_jYmWsqHt1",
        "outputId": "73e20453-ef47-4edf-c3d4-c3b0c2d99d0a"
      },
      "execution_count": 32,
      "outputs": [
        {
          "output_type": "execute_result",
          "data": {
            "text/plain": [
              "(array([21.,  0.,  0.,  0.,  0.,  0.,  0.,  0.,  0.,  1.]),\n",
              " array([  -34590.,   968869.,  1972328.,  2975787.,  3979246.,  4982705.,\n",
              "         5986164.,  6989623.,  7993082.,  8996541., 10000000.]),\n",
              " <a list of 10 Patch objects>)"
            ]
          },
          "metadata": {},
          "execution_count": 32
        },
        {
          "output_type": "display_data",
          "data": {
            "image/png": "[encoded data removed]",
            "text/plain": [
              "<Figure size 432x288 with 1 Axes>"
            ]
          },
          "metadata": {
            "needs_background": "light"
          }
        }
      ]
    },
    {
      "cell_type": "markdown",
      "source": [
        "## #iqr \n",
        "\n",
        "---\n",
        "\n",
        "\n",
        "1.sort the data\n",
        "2.calculate Q1\n",
        "3Calculate Q3\n",
        "4.find the lower fence(q1-1.5 iqr)\n",
        "5.find the uppper  fence(q3+1.5 iqr)\n"
      ],
      "metadata": {
        "id": "dbZzgNNvaz_h"
      }
    },
    {
      "cell_type": "markdown",
      "source": [
        ""
      ],
      "metadata": {
        "id": "_1H7haY3rqju"
      }
    },
    {
      "cell_type": "code",
      "source": [
        "dataset=sorted(dataset)\n",
        "dataset"
      ],
      "metadata": {
        "colab": {
          "base_uri": "https://localhost:8080/"
        },
        "id": "aCz3Ja_zsScE",
        "outputId": "8c785218-f983-4022-b921-be8731adfc73"
      },
      "execution_count": 33,
      "outputs": [
        {
          "output_type": "execute_result",
          "data": {
            "text/plain": [
              "[10,\n",
              " 10,\n",
              " 10,\n",
              " 10,\n",
              " 10,\n",
              " 11,\n",
              " 11,\n",
              " 12,\n",
              " 12,\n",
              " 12,\n",
              " 12,\n",
              " 12,\n",
              " 12,\n",
              " 12,\n",
              " 13,\n",
              " 13,\n",
              " 13,\n",
              " 13,\n",
              " 14,\n",
              " 14,\n",
              " 14,\n",
              " 14,\n",
              " 14,\n",
              " 14,\n",
              " 15,\n",
              " 15,\n",
              " 15,\n",
              " 15,\n",
              " 15,\n",
              " 17,\n",
              " 19,\n",
              " 102,\n",
              " 107,\n",
              " 108]"
            ]
          },
          "metadata": {},
          "execution_count": 33
        }
      ]
    },
    {
      "cell_type": "code",
      "source": [
        "q1,q3=np.percentile(dataset,[25,75])"
      ],
      "metadata": {
        "id": "vQzTJT_isw10"
      },
      "execution_count": 34,
      "outputs": []
    },
    {
      "cell_type": "code",
      "source": [
        "print(q1,q3)"
      ],
      "metadata": {
        "colab": {
          "base_uri": "https://localhost:8080/"
        },
        "id": "l1uYqEICs5R-",
        "outputId": "1553407d-ba53-4e3c-e733-67b3fd6ad4b1"
      },
      "execution_count": 35,
      "outputs": [
        {
          "output_type": "stream",
          "name": "stdout",
          "text": [
            "12.0 15.0\n"
          ]
        }
      ]
    },
    {
      "cell_type": "markdown",
      "source": [
        "lower and upper fence"
      ],
      "metadata": {
        "id": "HNaOI-u0tanD"
      }
    },
    {
      "cell_type": "code",
      "source": [
        "iqr=q3-q1\n",
        "lower_fence=q1-(1.5*iqr)\n",
        "upper_fence=q3+(1.5*iqr)\n",
        "iqr"
      ],
      "metadata": {
        "colab": {
          "base_uri": "https://localhost:8080/"
        },
        "id": "Q4uY4jbztLhM",
        "outputId": "fd0325c0-8d75-452f-b283-d2b6eae17251"
      },
      "execution_count": 41,
      "outputs": [
        {
          "output_type": "execute_result",
          "data": {
            "text/plain": [
              "3.0"
            ]
          },
          "metadata": {},
          "execution_count": 41
        }
      ]
    },
    {
      "cell_type": "code",
      "source": [
        "upper_fence"
      ],
      "metadata": {
        "colab": {
          "base_uri": "https://localhost:8080/"
        },
        "id": "3vJj3J9UtsZH",
        "outputId": "f7dd3575-f79d-4a8a-a6b6-89631fc7b067"
      },
      "execution_count": 38,
      "outputs": [
        {
          "output_type": "execute_result",
          "data": {
            "text/plain": [
              "19.5"
            ]
          },
          "metadata": {},
          "execution_count": 38
        }
      ]
    },
    {
      "cell_type": "code",
      "source": [
        "lower_fence"
      ],
      "metadata": {
        "colab": {
          "base_uri": "https://localhost:8080/"
        },
        "id": "s-sK28B9tvFE",
        "outputId": "1daea653-4f45-461b-a264-a896d76f81a5"
      },
      "execution_count": 39,
      "outputs": [
        {
          "output_type": "execute_result",
          "data": {
            "text/plain": [
              "7.5"
            ]
          },
          "metadata": {},
          "execution_count": 39
        }
      ]
    },
    {
      "cell_type": "markdown",
      "source": [
        ""
      ],
      "metadata": {
        "id": "GQnObiVstZCG"
      }
    },
    {
      "cell_type": "code",
      "source": [
        "print(upper_fence,lower_fence)"
      ],
      "metadata": {
        "colab": {
          "base_uri": "https://localhost:8080/"
        },
        "id": "cXLpp8axuIYN",
        "outputId": "3c80885a-5de9-49e8-83d7-736257f1462a"
      },
      "execution_count": 42,
      "outputs": [
        {
          "output_type": "stream",
          "name": "stdout",
          "text": [
            "19.5 7.5\n"
          ]
        }
      ]
    },
    {
      "cell_type": "code",
      "source": [
        "import seaborn as sns\n"
      ],
      "metadata": {
        "id": "5GZEAuTwui1j"
      },
      "execution_count": 45,
      "outputs": []
    },
    {
      "cell_type": "code",
      "source": [
        "sns.boxplot(dataset)"
      ],
      "metadata": {
        "colab": {
          "base_uri": "https://localhost:8080/",
          "height": 337
        },
        "id": "2ddJtxk7um-U",
        "outputId": "92ed725c-226f-42f2-a11d-697ecfb661be"
      },
      "execution_count": 46,
      "outputs": [
        {
          "output_type": "stream",
          "name": "stderr",
          "text": [
            "/usr/local/lib/python3.7/dist-packages/seaborn/_decorators.py:43: FutureWarning: Pass the following variable as a keyword arg: x. From version 0.12, the only valid positional argument will be `data`, and passing other arguments without an explicit keyword will result in an error or misinterpretation.\n",
            "  FutureWarning\n"
          ]
        },
        {
          "output_type": "execute_result",
          "data": {
            "text/plain": [
              "<matplotlib.axes._subplots.AxesSubplot at 0x7fcb0d4db510>"
            ]
          },
          "metadata": {},
          "execution_count": 46
        },
        {
          "output_type": "display_data",
          "data": {
            "image/png": "[encoded data removed]",
            "text/plain": [
              "<Figure size 432x288 with 1 Axes>"
            ]
          },
          "metadata": {
            "needs_background": "light"
          }
        }
      ]
    }
  ]
}